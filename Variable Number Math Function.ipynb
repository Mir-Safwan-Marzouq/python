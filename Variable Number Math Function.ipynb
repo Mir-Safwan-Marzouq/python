{
  "nbformat": 4,
  "nbformat_minor": 0,
  "metadata": {
    "colab": {
      "provenance": [],
      "authorship_tag": "ABX9TyOcsGCQlnM418B1c7D7Qjoq",
      "include_colab_link": true
    },
    "kernelspec": {
      "name": "python3",
      "display_name": "Python 3"
    },
    "language_info": {
      "name": "python"
    }
  },
  "cells": [
    {
      "cell_type": "markdown",
      "metadata": {
        "id": "view-in-github",
        "colab_type": "text"
      },
      "source": [
        "<a href=\"https://colab.research.google.com/github/Mir-Safwan-Marzouq/python/blob/main/Variable%20Number%20Math%20Function.ipynb\" target=\"_parent\"><img src=\"https://colab.research.google.com/assets/colab-badge.svg\" alt=\"Open In Colab\"/></a>"
      ]
    },
    {
      "cell_type": "markdown",
      "source": [
        "***Variable***: Containers that can hold any data. We can use them to store numeric data, text data etc.\n",
        "\n",
        "**Problem**: Find out total Expense given individual expense Items."
      ],
      "metadata": {
        "id": "wmsWHf-rlFTA"
      }
    },
    {
      "cell_type": "code",
      "execution_count": 1,
      "metadata": {
        "colab": {
          "base_uri": "https://localhost:8080/"
        },
        "id": "B_q-RCq2lAHc",
        "outputId": "04a10fb5-ff0d-4112-f6db-254c86c97f22"
      },
      "outputs": [
        {
          "output_type": "stream",
          "name": "stdout",
          "text": [
            "1600\n"
          ]
        }
      ],
      "source": [
        "rent= 1600\n",
        "internet=200\n",
        "transportation= 600\n",
        "food= 3000\n",
        "houseworker= 500\n",
        "others= 500\n",
        "\n",
        "print(rent)"
      ]
    },
    {
      "cell_type": "code",
      "source": [
        "total= rent+internet+transportation+food+houseworker+others"
      ],
      "metadata": {
        "id": "XMt2pT5mmYWN"
      },
      "execution_count": 2,
      "outputs": []
    },
    {
      "cell_type": "code",
      "source": [
        "print(total)"
      ],
      "metadata": {
        "colab": {
          "base_uri": "https://localhost:8080/"
        },
        "id": "zGs8J0r9mj6H",
        "outputId": "d5dc7f98-8339-467d-e18d-d474826076f7"
      },
      "execution_count": 3,
      "outputs": [
        {
          "output_type": "stream",
          "name": "stdout",
          "text": [
            "6400\n"
          ]
        }
      ]
    },
    {
      "cell_type": "markdown",
      "source": [
        "Variables are called variable because the **value in that can vary or can be changed**"
      ],
      "metadata": {
        "id": "dctRw-plmuYA"
      }
    },
    {
      "cell_type": "code",
      "source": [
        "item1= \"rent\"\n",
        "item2= \"internet\"\n",
        "item3= \"transportation\"\n",
        "item4= \"food\"\n",
        "item5= \"houseworker\"\n",
        "item6= \"others\"\n",
        "\n",
        "print(\"My Expense Item was \", item1, item2, item3, item4, item5, item6)"
      ],
      "metadata": {
        "colab": {
          "base_uri": "https://localhost:8080/"
        },
        "id": "we26amV5mlHj",
        "outputId": "9e8ce20f-1745-473d-e314-79f30af001e1"
      },
      "execution_count": 5,
      "outputs": [
        {
          "output_type": "stream",
          "name": "stdout",
          "text": [
            "My Expense Item was  rent internet transportation food houseworker others\n"
          ]
        }
      ]
    },
    {
      "cell_type": "markdown",
      "source": [
        "You are travelling from **Dhaka to Rajshahi** and then **Rajshahi to Naogaon**. You want to know how much total distance will you be travelling?"
      ],
      "metadata": {
        "id": "naaiH-BX1Qji"
      }
    },
    {
      "cell_type": "code",
      "source": [
        "Dhk_Raj=240\n",
        "Raj_Nao= 60\n",
        "\n",
        "total_distance= Dhk_Raj+ Raj_Nao\n",
        "print(total_distance)"
      ],
      "metadata": {
        "colab": {
          "base_uri": "https://localhost:8080/"
        },
        "id": "-G97ekJG0Xqj",
        "outputId": "50197715-ede7-4d78-cf1f-050d688af910"
      },
      "execution_count": 6,
      "outputs": [
        {
          "output_type": "stream",
          "name": "stdout",
          "text": [
            "300\n"
          ]
        }
      ]
    },
    {
      "cell_type": "markdown",
      "source": [
        "If your speed is 65km per  hour what will be the time"
      ],
      "metadata": {
        "id": "74dAXSut2GDq"
      }
    },
    {
      "cell_type": "code",
      "source": [
        "speed= 65\n",
        "time= total_distance/speed\n",
        "\n",
        "print(time)"
      ],
      "metadata": {
        "colab": {
          "base_uri": "https://localhost:8080/"
        },
        "id": "1kRO6rR21-me",
        "outputId": "8e0fadfd-8e72-4cca-c313-c517b656842d"
      },
      "execution_count": 7,
      "outputs": [
        {
          "output_type": "stream",
          "name": "stdout",
          "text": [
            "4.615384615384615\n"
          ]
        }
      ]
    },
    {
      "cell_type": "markdown",
      "source": [
        "**Round** Function"
      ],
      "metadata": {
        "id": "PEIEMEhz2Xca"
      }
    },
    {
      "cell_type": "code",
      "source": [
        "round(time)"
      ],
      "metadata": {
        "colab": {
          "base_uri": "https://localhost:8080/"
        },
        "id": "6iE_-UKN2Tr7",
        "outputId": "4f47a421-b779-4754-dbeb-295aff06ef3d"
      },
      "execution_count": 8,
      "outputs": [
        {
          "output_type": "execute_result",
          "data": {
            "text/plain": [
              "5"
            ]
          },
          "metadata": {},
          "execution_count": 8
        }
      ]
    },
    {
      "cell_type": "code",
      "source": [
        "import math\n",
        "math.floor(time)"
      ],
      "metadata": {
        "colab": {
          "base_uri": "https://localhost:8080/"
        },
        "id": "im1bz1na2cj3",
        "outputId": "911a8d29-f8ae-4de4-9786-c0ea3fa98b66"
      },
      "execution_count": 11,
      "outputs": [
        {
          "output_type": "execute_result",
          "data": {
            "text/plain": [
              "4"
            ]
          },
          "metadata": {},
          "execution_count": 11
        }
      ]
    },
    {
      "cell_type": "code",
      "source": [
        "math.ceil(time)"
      ],
      "metadata": {
        "colab": {
          "base_uri": "https://localhost:8080/"
        },
        "id": "naOIwnqf2hZx",
        "outputId": "7cb09da1-a965-48fa-b1a8-4ae59199b272"
      },
      "execution_count": 12,
      "outputs": [
        {
          "output_type": "execute_result",
          "data": {
            "text/plain": [
              "5"
            ]
          },
          "metadata": {},
          "execution_count": 12
        }
      ]
    },
    {
      "cell_type": "code",
      "source": [
        "round(time,2)"
      ],
      "metadata": {
        "colab": {
          "base_uri": "https://localhost:8080/"
        },
        "id": "j8SOs7eR21ml",
        "outputId": "0584dd43-96fa-4fa2-c169-ca291eb5d3e3"
      },
      "execution_count": 13,
      "outputs": [
        {
          "output_type": "execute_result",
          "data": {
            "text/plain": [
              "4.62"
            ]
          },
          "metadata": {},
          "execution_count": 13
        }
      ]
    },
    {
      "cell_type": "code",
      "source": [
        "round(time,3)"
      ],
      "metadata": {
        "colab": {
          "base_uri": "https://localhost:8080/"
        },
        "id": "-CFBHYow3CBr",
        "outputId": "2cfb2bc4-fd83-41d8-dd1e-80c0abfa112e"
      },
      "execution_count": 14,
      "outputs": [
        {
          "output_type": "execute_result",
          "data": {
            "text/plain": [
              "4.615"
            ]
          },
          "metadata": {},
          "execution_count": 14
        }
      ]
    },
    {
      "cell_type": "code",
      "source": [
        "6-5.7"
      ],
      "metadata": {
        "colab": {
          "base_uri": "https://localhost:8080/"
        },
        "id": "b9kH3g2d3Dg4",
        "outputId": "77f2daf3-2ecd-42e0-c310-6ce6581199e0"
      },
      "execution_count": 15,
      "outputs": [
        {
          "output_type": "execute_result",
          "data": {
            "text/plain": [
              "0.2999999999999998"
            ]
          },
          "metadata": {},
          "execution_count": 15
        }
      ]
    },
    {
      "cell_type": "code",
      "source": [
        "# in any programming language when you try to store any floating number, ultimately numbers are stored in binary format which is a sequence of 0s and 1s."
      ],
      "metadata": {
        "id": "_UPvYpy35bO1"
      },
      "execution_count": 16,
      "outputs": []
    },
    {
      "cell_type": "code",
      "source": [
        "# and the way floating numbers are stored, they always lose the accuracy so there are no precise way to store floating numbers\n",
        "# hence you will get this kind of behavior"
      ],
      "metadata": {
        "id": "Xfl5ar-25ug0"
      },
      "execution_count": null,
      "outputs": []
    }
  ]
}